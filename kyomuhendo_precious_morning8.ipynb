{
 "cells": [
  {
   "cell_type": "code",
   "execution_count": 1,
   "metadata": {},
   "outputs": [
    {
     "data": {
      "text/plain": [
       "'summary\\nkey objectives for analyzing your data set\\nfeatures of the columns you analysing and why u are analysing\\npreprosing and preparation | head(10) tail(10)\\n'"
      ]
     },
     "execution_count": 1,
     "metadata": {},
     "output_type": "execute_result"
    }
   ],
   "source": [
    "\"\"\"summary\n",
    "key objectives for analyzing your data set\n",
    "features of the columns you analysing and why u are analysing\n",
    "preprosing and preparation | head(10) tail(10)\n",
    "\"\"\""
   ]
  },
  {
   "cell_type": "code",
   "execution_count": 2,
   "metadata": {},
   "outputs": [
    {
     "name": "stdout",
     "output_type": "stream",
     "text": [
      "      x    y   z:\n",
      "x   1.0  1.0  1.0\n",
      "y   1.0  1.0  1.0\n",
      "z:  1.0  1.0  1.0\n"
     ]
    }
   ],
   "source": [
    "import pandas as pd\n",
    "df = pd.DataFrame({\n",
    "    'x' : [1,2,3,4,5],\n",
    "    'y':[6,7,8,9,10],\n",
    "    'z:' :[11,12,13,14,15]\n",
    "})\n",
    "correlation = df.corr()\n",
    "print(correlation)"
   ]
  }
 ],
 "metadata": {
  "kernelspec": {
   "display_name": "Python 3",
   "language": "python",
   "name": "python3"
  },
  "language_info": {
   "codemirror_mode": {
    "name": "ipython",
    "version": 3
   },
   "file_extension": ".py",
   "mimetype": "text/x-python",
   "name": "python",
   "nbconvert_exporter": "python",
   "pygments_lexer": "ipython3",
   "version": "3.9.7"
  },
  "orig_nbformat": 4
 },
 "nbformat": 4,
 "nbformat_minor": 2
}
