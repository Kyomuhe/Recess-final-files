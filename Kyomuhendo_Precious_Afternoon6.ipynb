{
 "cells": [
  {
   "cell_type": "code",
   "execution_count": 1,
   "id": "46c110b7",
   "metadata": {},
   "outputs": [
    {
     "name": "stdout",
     "output_type": "stream",
     "text": [
      "Empty DataFrame\n",
      "Columns: []\n",
      "Index: []\n"
     ]
    }
   ],
   "source": [
    "#DATA FRAMES\n",
    "import pandas as pd\n",
    "df = pd.DataFrame()\n",
    "print(df)"
   ]
  },
  {
   "cell_type": "code",
   "execution_count": 3,
   "id": "e45c4401",
   "metadata": {},
   "outputs": [
    {
     "name": "stdout",
     "output_type": "stream",
     "text": [
      "                   series     cartoons\n",
      "0         Game of thrones  turning red\n",
      "1        Ginny and Geogia       ecanto\n",
      "2             broke girls         luca\n",
      "3  jeez i cant finish all    the beast\n"
     ]
    }
   ],
   "source": [
    "#USING DATA FRAMES WITH DICTIONARIES\n",
    "import pandas as pd\n",
    "myfavmovies ={'series':[\"Game of thrones\",\"Ginny and Geogia\",\"broke girls\",\"jeez i cant finish all\"],\n",
    "             'cartoons':[\"turning red\", \"ecanto\", \"luca\",\"the beast\"]}\n",
    "myvar = pd.DataFrame(myfavmovies)\n",
    "print(myvar)"
   ]
  },
  {
   "cell_type": "code",
   "execution_count": 4,
   "id": "2c434ca2",
   "metadata": {},
   "outputs": [
    {
     "name": "stdout",
     "output_type": "stream",
     "text": [
      "Index(['series', 'cartoons'], dtype='object')\n"
     ]
    }
   ],
   "source": [
    "#PRINTING THE COLUMN NAMES\n",
    "print(myvar.columns)"
   ]
  },
  {
   "cell_type": "code",
   "execution_count": 5,
   "id": "a9435583",
   "metadata": {},
   "outputs": [
    {
     "name": "stdout",
     "output_type": "stream",
     "text": [
      "RangeIndex(start=0, stop=4, step=1)\n"
     ]
    }
   ],
   "source": [
    "#PRINTING THE INDEXES AND THE STEP SIZE BETWEEN THEM\n",
    "print(myvar.index)"
   ]
  },
  {
   "cell_type": "code",
   "execution_count": 6,
   "id": "fd02fd36",
   "metadata": {},
   "outputs": [
    {
     "name": "stdout",
     "output_type": "stream",
     "text": [
      "series      [Game of thrones, Ginny and Geogia, broke girl...\n",
      "cartoons               [turning red, ecanto, luca, the beast]\n",
      "dtype: object\n"
     ]
    }
   ],
   "source": [
    "#USING SERIES\n",
    "import pandas as pd\n",
    "myfavmovies ={'series':[\"Game of thrones\",\"Ginny and Geogia\",\"broke girls\",\"jeez i cant finish all\"],\n",
    "             'cartoons':[\"turning red\", \"ecanto\", \"luca\",\"the beast\"]}\n",
    "myvar = pd.Series(myfavmovies)\n",
    "print(myvar)# it wil print the values in form of a list"
   ]
  },
  {
   "cell_type": "code",
   "execution_count": 7,
   "id": "e547c1b6",
   "metadata": {},
   "outputs": [
    {
     "name": "stdout",
     "output_type": "stream",
     "text": [
      "Monday       2023-07-03\n",
      "Tuesday      2023-07-04\n",
      "Wednesday    2023-07-05\n",
      "Thursday     2023-07-06\n",
      "Friday       2023-07-07\n",
      "dtype: object\n"
     ]
    }
   ],
   "source": [
    "#create a simple pandas series from a dictionary for days and dates\n",
    "import pandas as pd\n",
    "\n",
    "# Dictionary with days and dates\n",
    "days_dates = {'Monday': '2023-07-03',\n",
    "              'Tuesday': '2023-07-04',\n",
    "              'Wednesday': '2023-07-05',\n",
    "              'Thursday': '2023-07-06',\n",
    "              'Friday': '2023-07-07'}\n",
    "\n",
    "series = pd.Series(days_dates)\n",
    "\n",
    "print(series)\n"
   ]
  },
  {
   "cell_type": "code",
   "execution_count": 9,
   "id": "9509d613",
   "metadata": {},
   "outputs": [
    {
     "name": "stdout",
     "output_type": "stream",
     "text": [
      "Monday     2023-07-03\n",
      "Tuesday    2023-07-04\n",
      "dtype: object\n"
     ]
    }
   ],
   "source": [
    "#create a simple serie using only data from \"Monday\" and \"Tuesday\"\n",
    "import pandas as pd\n",
    "\n",
    "# Dictionary with days and dates\n",
    "days_dates = {'Monday': '2023-07-03',\n",
    "              'Tuesday': '2023-07-04',\n",
    "              'Wednesday': '2023-07-05',\n",
    "              'Thursday': '2023-07-06',\n",
    "              'Friday': '2023-07-07'}\n",
    "\n",
    "# Filter dictionary for \"Monday\" and \"Tuesday\" only\n",
    "filtered_days_dates = {day: \n",
    "                           date for day,\n",
    "                           date in days_dates.items() if day in ['Monday', 'Tuesday']}\n",
    "\n",
    "# Create a pandas Series\n",
    "series = pd.Series(filtered_days_dates)\n",
    "\n",
    "# Print the Series\n",
    "print(series)\n"
   ]
  },
  {
   "cell_type": "code",
   "execution_count": 10,
   "id": "7ae1274f",
   "metadata": {},
   "outputs": [
    {
     "data": {
      "text/html": [
       "<div>\n",
       "<style scoped>\n",
       "    .dataframe tbody tr th:only-of-type {\n",
       "        vertical-align: middle;\n",
       "    }\n",
       "\n",
       "    .dataframe tbody tr th {\n",
       "        vertical-align: top;\n",
       "    }\n",
       "\n",
       "    .dataframe thead th {\n",
       "        text-align: right;\n",
       "    }\n",
       "</style>\n",
       "<table border=\"1\" class=\"dataframe\">\n",
       "  <thead>\n",
       "    <tr style=\"text-align: right;\">\n",
       "      <th></th>\n",
       "      <th>Phones</th>\n",
       "      <th>Prices</th>\n",
       "    </tr>\n",
       "  </thead>\n",
       "  <tbody>\n",
       "    <tr>\n",
       "      <th>0</th>\n",
       "      <td>samsang</td>\n",
       "      <td>1200000</td>\n",
       "    </tr>\n",
       "    <tr>\n",
       "      <th>1</th>\n",
       "      <td>iphone</td>\n",
       "      <td>1400000</td>\n",
       "    </tr>\n",
       "    <tr>\n",
       "      <th>2</th>\n",
       "      <td>techno</td>\n",
       "      <td>400000</td>\n",
       "    </tr>\n",
       "  </tbody>\n",
       "</table>\n",
       "</div>"
      ],
      "text/plain": [
       "    Phones   Prices\n",
       "0  samsang  1200000\n",
       "1   iphone  1400000\n",
       "2   techno   400000"
      ]
     },
     "execution_count": 10,
     "metadata": {},
     "output_type": "execute_result"
    }
   ],
   "source": [
    "# USING DIFFERENT OPERATIONS USING DATA FRAMES\n",
    "df1 = pd.DataFrame(\n",
    "    [\n",
    "    [\"samsang\",1200000],\n",
    "    [\"iphone\",1400000],\n",
    "    [\"techno\",400000]\n",
    "    ],\n",
    "    columns =[\"Phones\",\"Prices\"]\n",
    ")\n",
    "df1.head()"
   ]
  },
  {
   "cell_type": "code",
   "execution_count": 30,
   "id": "a13edcf4",
   "metadata": {},
   "outputs": [
    {
     "data": {
      "text/plain": [
       "'samsang'"
      ]
     },
     "execution_count": 30,
     "metadata": {},
     "output_type": "execute_result"
    }
   ],
   "source": [
    "#printing the value at a specified index\n",
    "df1[\"Phones\"].iloc[0]"
   ]
  },
  {
   "cell_type": "code",
   "execution_count": 50,
   "id": "511c75ad",
   "metadata": {},
   "outputs": [
    {
     "data": {
      "text/html": [
       "<div>\n",
       "<style scoped>\n",
       "    .dataframe tbody tr th:only-of-type {\n",
       "        vertical-align: middle;\n",
       "    }\n",
       "\n",
       "    .dataframe tbody tr th {\n",
       "        vertical-align: top;\n",
       "    }\n",
       "\n",
       "    .dataframe thead th {\n",
       "        text-align: right;\n",
       "    }\n",
       "</style>\n",
       "<table border=\"1\" class=\"dataframe\">\n",
       "  <thead>\n",
       "    <tr style=\"text-align: right;\">\n",
       "      <th></th>\n",
       "      <th>Phones</th>\n",
       "      <th>Prices</th>\n",
       "    </tr>\n",
       "  </thead>\n",
       "  <tbody>\n",
       "    <tr>\n",
       "      <th>2</th>\n",
       "      <td>techno</td>\n",
       "      <td>400000</td>\n",
       "    </tr>\n",
       "  </tbody>\n",
       "</table>\n",
       "</div>"
      ],
      "text/plain": [
       "   Phones  Prices\n",
       "2  techno  400000"
      ]
     },
     "execution_count": 50,
     "metadata": {},
     "output_type": "execute_result"
    }
   ],
   "source": [
    "#printing data that is at the end\n",
    "df1.tail(n=1)"
   ]
  },
  {
   "cell_type": "code",
   "execution_count": 51,
   "id": "a247d0c6",
   "metadata": {},
   "outputs": [],
   "source": [
    "#import libraries\n",
    "import numpy as np\n",
    "import pandas as pd\n",
    "import matplotlib.pyplot as plt\n",
    "import seaborn as sns\n",
    "\n",
    "#control display of seaborn data\n",
    "pd.options.display.max_columns=50\n",
    "sns.set(style=\"darkgrid\",rc={\"axes.facecolor\":\"#CAF1DE\"})"
   ]
  },
  {
   "cell_type": "code",
   "execution_count": 52,
   "id": "2fdec1df",
   "metadata": {},
   "outputs": [
    {
     "name": "stdout",
     "output_type": "stream",
     "text": [
      "   Duration  Pulse  Maxpulse  Calories\n",
      "0        60    110       130     409.1\n",
      "1        60    117       145     479.0\n",
      "2        60    103       135     340.0\n",
      "3        45    109       175     282.4\n",
      "4        45    117       148     406.0\n"
     ]
    }
   ],
   "source": [
    "#USING head() FUNCTION ON mine.csv\n",
    "df = pd.read_csv(\"mine.csv\")\n",
    "\n",
    "# Use head() to display the first few rows of the data\n",
    "print(df.head())\n",
    "\n",
    "# Save the cleaned data to a new CSV file\n",
    "df.to_csv(\"cleaned_mine.csv\", index=False)\n"
   ]
  },
  {
   "cell_type": "code",
   "execution_count": 53,
   "id": "fff63660",
   "metadata": {},
   "outputs": [
    {
     "name": "stdout",
     "output_type": "stream",
     "text": [
      "     Name         city  age py-score\n",
      "0    Emma      Kampala   23       90\n",
      "1  Wilber        Mbale   26       75\n",
      "2   Robin         Gulu   25     mine\n",
      "3   Tevor  Livingstone  NaN       89\n",
      "4    Yeko       Tororo   20       94\n"
     ]
    }
   ],
   "source": [
    "#USING head() FUNCTION ON Work.csv\n",
    "\n",
    "df2 = pd.read_csv(\"Work.csv\")\n",
    "\n",
    "# Use head() to display the first few rows of the data\n",
    "print(df2.head())\n",
    "\n",
    "# Save the cleaned data to a new CSV file\n",
    "df2.to_csv(\"cleaned_Work.csv\", index=False)\n"
   ]
  },
  {
   "cell_type": "code",
   "execution_count": 70,
   "id": "a0425238",
   "metadata": {},
   "outputs": [
    {
     "name": "stdout",
     "output_type": "stream",
     "text": [
      "     Duration  Pulse  Maxpulse  Calories\n",
      "164        60    105       140     290.8\n",
      "165        60    110       145     300.0\n",
      "166        60    115       145     310.2\n",
      "167        75    120       150     320.4\n",
      "168        75    125       150     330.4\n"
     ]
    }
   ],
   "source": [
    "# USING tail() FUNCTION ON mine.csv\n",
    "df = pd.read_csv(\"mine.csv\")\n",
    "\n",
    "# Use tail() to display the last few rows of the data\n",
    "print(df.tail())\n",
    "\n",
    "# Save the cleaned data to a new CSV file\n",
    "df.to_csv(\"cleaned_mine1.csv\", index=False)\n"
   ]
  },
  {
   "cell_type": "code",
   "execution_count": 86,
   "id": "89cc6820",
   "metadata": {},
   "outputs": [
    {
     "name": "stdout",
     "output_type": "stream",
     "text": [
      "     Name         city    age py-score\n",
      "2   Robin         Gulu     25     mine\n",
      "3   Tevor  Livingstone    NaN       89\n",
      "4    Yeko       Tororo     20       94\n",
      "5  Miriam         Arua  Train      NaN\n",
      "6   Jesca      Mbarara     21       84\n"
     ]
    }
   ],
   "source": [
    "## USING tail() FUNCTION ON Work.csv\n",
    "\n",
    "df2= pd.read_csv(\"Work.csv\")\n",
    "\n",
    "# Use tail() to display the last few rows of the data\n",
    "print(df2.tail())\n",
    "\n",
    "# Save the cleaned data to a new CSV file\n",
    "df2.to_csv(\"cleaned_Work1.csv\", index=False)\n"
   ]
  },
  {
   "cell_type": "code",
   "execution_count": 87,
   "id": "e7ee5c13",
   "metadata": {},
   "outputs": [
    {
     "name": "stdout",
     "output_type": "stream",
     "text": [
      "<class 'pandas.core.frame.DataFrame'>\n",
      "RangeIndex: 169 entries, 0 to 168\n",
      "Data columns (total 4 columns):\n",
      " #   Column    Non-Null Count  Dtype  \n",
      "---  ------    --------------  -----  \n",
      " 0   Duration  169 non-null    int64  \n",
      " 1   Pulse     169 non-null    int64  \n",
      " 2   Maxpulse  169 non-null    int64  \n",
      " 3   Calories  164 non-null    float64\n",
      "dtypes: float64(1), int64(3)\n",
      "memory usage: 5.4 KB\n",
      "None\n"
     ]
    }
   ],
   "source": [
    "# Display information about the DataFrame using info() on mine.csv\n",
    "print(df.info())\n"
   ]
  },
  {
   "cell_type": "code",
   "execution_count": 88,
   "id": "e3463e81",
   "metadata": {},
   "outputs": [
    {
     "name": "stdout",
     "output_type": "stream",
     "text": [
      "<class 'pandas.core.frame.DataFrame'>\n",
      "RangeIndex: 169 entries, 0 to 168\n",
      "Data columns (total 4 columns):\n",
      " #   Column    Non-Null Count  Dtype  \n",
      "---  ------    --------------  -----  \n",
      " 0   Duration  169 non-null    int64  \n",
      " 1   Pulse     169 non-null    int64  \n",
      " 2   Maxpulse  169 non-null    int64  \n",
      " 3   Calories  164 non-null    float64\n",
      "dtypes: float64(1), int64(3)\n",
      "memory usage: 5.4 KB\n",
      "None\n"
     ]
    }
   ],
   "source": [
    "# Display information about the DataFrame using info() on Work.csv\n",
    "print(df.info())\n"
   ]
  },
  {
   "cell_type": "code",
   "execution_count": 101,
   "id": "7c641d2c",
   "metadata": {},
   "outputs": [
    {
     "name": "stdout",
     "output_type": "stream",
     "text": [
      "Rows with missing values before cleaning: 5\n",
      "Rows with missing values after cleaning: 0\n"
     ]
    }
   ],
   "source": [
    "#USING dropna ON mine.csv file\n",
    "# Read the CSV file\n",
    "df = pd.read_csv(\"mine.csv\")\n",
    "\n",
    "# Display the number of rows with missing values before cleaning\n",
    "print(\"Rows with missing values before cleaning:\", df.isnull().sum().sum())\n",
    "\n",
    "# Drop rows with missing values\n",
    "df.dropna(inplace=True)\n",
    "\n",
    "# Display the number of rows with missing values after cleaning\n",
    "print(\"Rows with missing values after cleaning:\", df.isnull().sum().sum())\n",
    "\n",
    "# Save the cleaned data to a new CSV file\n",
    "df.to_csv(\"cleaned_mine3.csv\", index=False)\n"
   ]
  },
  {
   "cell_type": "code",
   "execution_count": 113,
   "id": "f2b1e597",
   "metadata": {},
   "outputs": [
    {
     "name": "stdout",
     "output_type": "stream",
     "text": [
      "Rows with missing values before cleaning: 2\n",
      "Rows with missing values after cleaning: 0\n"
     ]
    }
   ],
   "source": [
    "#USING dropna ON work.csv\n",
    "# Read the CSV file\n",
    "df2 = pd.read_csv(\"Work.csv\")\n",
    "\n",
    "# Display the number of rows with missing values before cleaning\n",
    "print(\"Rows with missing values before cleaning:\", df2.isnull().sum().sum())\n",
    "\n",
    "# Drop rows with missing values\n",
    "df2.dropna(inplace=True)\n",
    "\n",
    "# Display the number of rows with missing values after cleaning\n",
    "print(\"Rows with missing values after cleaning:\", df2.isnull().sum().sum())\n",
    "\n",
    "# Save the cleaned data to a new CSV file\n",
    "df2.to_csv(\"cleaned_Work3.csv\", index=False)\n"
   ]
  },
  {
   "cell_type": "code",
   "execution_count": 114,
   "id": "8a21e479",
   "metadata": {},
   "outputs": [
    {
     "name": "stdout",
     "output_type": "stream",
     "text": [
      "Missing values before cleaning:\n",
      " Duration    0\n",
      "Pulse       0\n",
      "Maxpulse    0\n",
      "Calories    5\n",
      "dtype: int64\n",
      "Missing values after cleaning:\n",
      " Duration    0\n",
      "Pulse       0\n",
      "Maxpulse    0\n",
      "Calories    0\n",
      "dtype: int64\n"
     ]
    }
   ],
   "source": [
    "# using fillna on mine.csv\n",
    "# Read the CSV file\n",
    "df = pd.read_csv(\"mine.csv\")\n",
    "\n",
    "# Display the number of missing values before cleaning\n",
    "print(\"Missing values before cleaning:\\n\", df.isnull().sum())\n",
    "\n",
    "# Fill missing values with a specific value\n",
    "specific_value = 0  \n",
    "df.fillna(value=specific_value, inplace=True)\n",
    "\n",
    "# Display the number of missing values after cleaning\n",
    "print(\"Missing values after cleaning:\\n\", df.isnull().sum())\n"
   ]
  },
  {
   "cell_type": "code",
   "execution_count": 115,
   "id": "f698bcac",
   "metadata": {},
   "outputs": [
    {
     "name": "stdout",
     "output_type": "stream",
     "text": [
      "Missing values before cleaning:\n",
      " Name        0\n",
      "city        0\n",
      "age         1\n",
      "py-score    1\n",
      "dtype: int64\n",
      "Missing values after cleaning:\n",
      " Name        0\n",
      "city        0\n",
      "age         0\n",
      "py-score    0\n",
      "dtype: int64\n"
     ]
    }
   ],
   "source": [
    "# using fillna on Work.csv\n",
    "# Read the CSV file\n",
    "df2 = pd.read_csv(\"Work.csv\")\n",
    "\n",
    "# Display the number of missing values before cleaning\n",
    "print(\"Missing values before cleaning:\\n\", df2.isnull().sum())\n",
    "\n",
    "# Fill missing values with a specific value\n",
    "specific_value = 0  \n",
    "df2.fillna(value=specific_value, inplace=True)\n",
    "\n",
    "# Display the number of missing values after cleaning\n",
    "print(\"Missing values after cleaning:\\n\", df2.isnull().sum())\n"
   ]
  },
  {
   "cell_type": "code",
   "execution_count": 116,
   "id": "9796360d",
   "metadata": {},
   "outputs": [
    {
     "name": "stdout",
     "output_type": "stream",
     "text": [
      "     Duration  Pulse  Maxpulse  Calories\n",
      "9          60     98       124     269.0\n",
      "11         60    100       120     250.7\n",
      "14         60     98       123     275.0\n",
      "15         60     98       120     215.2\n",
      "16         60    100       120     300.0\n",
      "18         60    103       123     323.0\n",
      "25         60    100       120     250.0\n",
      "32         60    101       124     299.0\n",
      "37         60    100       120     300.0\n",
      "38         60    100       120     300.0\n",
      "42         60    100       122     329.4\n",
      "56         60    118       121     413.0\n",
      "75         90     98       125     563.2\n",
      "99         90     93       124     604.1\n",
      "106       180     90       120     800.3\n",
      "107        30     90       120      86.2\n",
      "108        90     90       120     500.3\n",
      "110        60    102       124     325.2\n",
      "117        60     97       122     277.4\n",
      "118        60    105       125       NaN\n",
      "119        60    103       124     332.7\n",
      "125        60     98       122     271.0\n",
      "126        60     97       124     275.3\n",
      "128        90     99       125     466.4\n",
      "157        60    100       120     270.4\n",
      "159        30     80       120     240.9\n",
      "160        30     85       120     250.4\n"
     ]
    }
   ],
   "source": [
    "#Removing wrong data in mine.csv \n",
    "df = pd.read_csv(\"mine.csv\")\n",
    "\n",
    "# Remove rows where a particular column contains a specific value\n",
    "df = df[df['Duration'] != 45]\n",
    "\n",
    "# Remove rows where a numeric column is outside a specific range\n",
    "df = df[(df['Maxpulse'] >= 120) & (df['Maxpulse'] <= 125)]\n",
    "\n",
    "# Print the remaining values\n",
    "print(df)\n",
    "\n"
   ]
  },
  {
   "cell_type": "code",
   "execution_count": 117,
   "id": "209c9656",
   "metadata": {},
   "outputs": [
    {
     "name": "stdout",
     "output_type": "stream",
     "text": [
      "     Name         city    age py-score\n",
      "1  Wilber        Mbale     26       75\n",
      "2   Robin         Gulu     25     mine\n",
      "3   Tevor  Livingstone    NaN       89\n",
      "4    Yeko       Tororo     20       94\n",
      "5  Miriam         Arua  Train      NaN\n",
      "6   Jesca      Mbarara     21       84\n"
     ]
    }
   ],
   "source": [
    "#Removing wrong data in Work.csv \n",
    "df2 = pd.read_csv(\"Work.csv\")\n",
    "\n",
    "# Remove rows where a particular column contains a specific value\n",
    "df2 = df2[df2['Name'] != 'Emma']\n",
    "\n",
    "# Print the remaining values\n",
    "print(df2)\n",
    "\n"
   ]
  },
  {
   "cell_type": "code",
   "execution_count": 118,
   "id": "4fe55967",
   "metadata": {},
   "outputs": [
    {
     "name": "stdout",
     "output_type": "stream",
     "text": [
      "     Duration  Pulse  Maxpulse  Calories\n",
      "0          60    110       130     409.1\n",
      "1          60    117       145     479.0\n",
      "2          60    103       135     340.0\n",
      "3          45    109       175     282.4\n",
      "4          45    117       148     406.0\n",
      "..        ...    ...       ...       ...\n",
      "164        60    105       140     290.8\n",
      "165        60    110       145     300.0\n",
      "166        60    115       145     310.2\n",
      "167        75    120       150     320.4\n",
      "168        75    125       150     330.4\n",
      "\n",
      "[164 rows x 4 columns]\n"
     ]
    }
   ],
   "source": [
    "#REMOVING WRONG FORMARTS IN mine.CSV file\n",
    "\n",
    "# Read the CSV file\n",
    "df = pd.read_csv(\"mine.csv\")\n",
    "\n",
    "# Remove rows with non-floating-point values in a specific column\n",
    "df = df[df['Calories'].astype(str).str.contains(r'^\\d+\\.\\d+$')]\n",
    "print(df)"
   ]
  },
  {
   "cell_type": "code",
   "execution_count": 119,
   "id": "5061dad0",
   "metadata": {},
   "outputs": [
    {
     "name": "stdout",
     "output_type": "stream",
     "text": [
      "     Name     city age py-score\n",
      "0    Emma  Kampala  23       90\n",
      "1  Wilber    Mbale  26       75\n",
      "4    Yeko   Tororo  20       94\n",
      "6   Jesca  Mbarara  21       84\n"
     ]
    }
   ],
   "source": [
    "#REMOVING WRONG FORMARTS IN WORK.CSV file\n",
    "# Read the CSV file\n",
    "df2 = pd.read_csv(\"Work.csv\")\n",
    "\n",
    "# Remove rows with non-numeric values in a specific column\n",
    "df2 = df2[pd.to_numeric(df2['age'], errors='coerce').notnull()]\n",
    "\n",
    "df2 = df2[pd.to_numeric(df2['py-score'], errors='coerce').notnull()]\n",
    "df2.to_csv(\"Work2.csv\", index=False)\n",
    "\n",
    "print(df2)"
   ]
  },
  {
   "cell_type": "code",
   "execution_count": 120,
   "id": "3aafa952",
   "metadata": {},
   "outputs": [
    {
     "name": "stdout",
     "output_type": "stream",
     "text": [
      "     Duration  Pulse  Maxpulse  Calories\n",
      "0          60    110       130     409.1\n",
      "1          60    117       145     479.0\n",
      "2          60    103       135     340.0\n",
      "3          45    109       175     282.4\n",
      "4          45    117       148     406.0\n",
      "..        ...    ...       ...       ...\n",
      "164        60    105       140     290.8\n",
      "165        60    110       145     300.0\n",
      "166        60    115       145     310.2\n",
      "167        75    120       150     320.4\n",
      "168        75    125       150     330.4\n",
      "\n",
      "[162 rows x 4 columns]\n"
     ]
    }
   ],
   "source": [
    "# REMOVING DUPLICATE VALUES IN mine.csv\n",
    "# Read the CSV file\n",
    "df = pd.read_csv(\"mine.csv\")\n",
    "\n",
    "# Remove duplicates based on all columns\n",
    "df.drop_duplicates(inplace=True)\n",
    "print(df)"
   ]
  },
  {
   "cell_type": "code",
   "execution_count": 121,
   "id": "959edabb",
   "metadata": {},
   "outputs": [
    {
     "name": "stdout",
     "output_type": "stream",
     "text": [
      "     Name         city    age py-score\n",
      "0    Emma      Kampala     23       90\n",
      "1  Wilber        Mbale     26       75\n",
      "2   Robin         Gulu     25     mine\n",
      "3   Tevor  Livingstone    NaN       89\n",
      "4    Yeko       Tororo     20       94\n",
      "5  Miriam         Arua  Train      NaN\n",
      "6   Jesca      Mbarara     21       84\n"
     ]
    }
   ],
   "source": [
    "# REMOVING DUPLICATE VALUES IN Work.csv\n",
    "# Read the CSV file\n",
    "df2 = pd.read_csv(\"Work.csv\")\n",
    "\n",
    "# Remove duplicates based on all columns\n",
    "df2.drop_duplicates(inplace=True)\n",
    "print(df2)"
   ]
  },
  {
   "cell_type": "code",
   "execution_count": 122,
   "id": "7398b684",
   "metadata": {},
   "outputs": [
    {
     "name": "stdout",
     "output_type": "stream",
     "text": [
      "          Duration     Pulse  Maxpulse  Calories\n",
      "Duration  1.000000 -0.155408  0.009403  0.922717\n",
      "Pulse    -0.155408  1.000000  0.786535  0.025121\n",
      "Maxpulse  0.009403  0.786535  1.000000  0.203813\n",
      "Calories  0.922717  0.025121  0.203813  1.000000\n"
     ]
    }
   ],
   "source": [
    "#Performing some correlation on mine.csv\n",
    "# Read the CSV file\n",
    "df = pd.read_csv(\"mine.csv\")\n",
    "\n",
    "# Perform correlation analysis on the DataFrame\n",
    "correlation_matrix = df.corr()\n",
    "\n",
    "# Display the correlation matrix\n",
    "print(correlation_matrix)\n",
    "\n"
   ]
  },
  {
   "cell_type": "code",
   "execution_count": 123,
   "id": "d9e33ebe",
   "metadata": {},
   "outputs": [
    {
     "name": "stdout",
     "output_type": "stream",
     "text": [
      "Correlation Matrix (Numeric Columns):\n",
      "               age  py-score\n",
      "age       1.000000 -0.815891\n",
      "py-score -0.815891  1.000000\n"
     ]
    }
   ],
   "source": [
    "import pandas as pd\n",
    "#PERFORMING SOME CORRELARATIONS ON work.csv using the new cleaned file work2.csv\n",
    "df2 = pd.read_csv(\"Work2.csv\")\n",
    "\n",
    "# Select the columns for correlation analysis\n",
    "numeric_columns = ['age', 'py-score']\n",
    "\n",
    "# Convert numeric columns to float\n",
    "df2[numeric_columns] = df2[numeric_columns].astype(float)\n",
    "\n",
    "# Perform correlation analysis on the numeric columns\n",
    "numeric_correlation_matrix = df2[numeric_columns].corr()\n",
    "\n",
    "# Display the correlation matrix for numeric columns\n",
    "print(\"Correlation Matrix (Numeric Columns):\")\n",
    "print(numeric_correlation_matrix)\n"
   ]
  }
 ],
 "metadata": {
  "kernelspec": {
   "display_name": "Python 3 (ipykernel)",
   "language": "python",
   "name": "python3"
  },
  "language_info": {
   "codemirror_mode": {
    "name": "ipython",
    "version": 3
   },
   "file_extension": ".py",
   "mimetype": "text/x-python",
   "name": "python",
   "nbconvert_exporter": "python",
   "pygments_lexer": "ipython3",
   "version": "3.9.7"
  }
 },
 "nbformat": 4,
 "nbformat_minor": 5
}
